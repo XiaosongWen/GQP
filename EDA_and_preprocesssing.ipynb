{
 "cells": [
  {
   "cell_type": "code",
   "execution_count": 39,
   "metadata": {},
   "outputs": [],
   "source": [
    "import pandas as pd\n",
    "import numpy as np\n",
    "from tqdm import tqdm\n",
    "tqdm.pandas(desc=\"progress-bar\")\n",
    "import warnings\n",
    "warnings.filterwarnings('ignore')\n",
    "import seaborn as sns\n",
    "import matplotlib.pyplot as plt"
   ]
  },
  {
   "cell_type": "markdown",
   "metadata": {},
   "source": [
    "# EDA"
   ]
  },
  {
   "cell_type": "code",
   "execution_count": 30,
   "metadata": {},
   "outputs": [
    {
     "data": {
      "text/plain": [
       "(17992, 4)"
      ]
     },
     "execution_count": 30,
     "metadata": {},
     "output_type": "execute_result"
    }
   ],
   "source": [
    "appeal_PATH = \"data/df_appeal.csv\"\n",
    "appeal = pd.read_csv(appeal_PATH)\n",
    "appeal['noun'] = appeal['noun'].astype('str')\n",
    "appeal.drop(columns=['Unnamed: 0', 'Unnamed: 0.1', 'tag'], inplace = True)\n",
    "appeal.shape"
   ]
  },
  {
   "cell_type": "code",
   "execution_count": 31,
   "metadata": {},
   "outputs": [
    {
     "data": {
      "text/html": [
       "<div>\n",
       "<style scoped>\n",
       "    .dataframe tbody tr th:only-of-type {\n",
       "        vertical-align: middle;\n",
       "    }\n",
       "\n",
       "    .dataframe tbody tr th {\n",
       "        vertical-align: top;\n",
       "    }\n",
       "\n",
       "    .dataframe thead th {\n",
       "        text-align: right;\n",
       "    }\n",
       "</style>\n",
       "<table border=\"1\" class=\"dataframe\">\n",
       "  <thead>\n",
       "    <tr style=\"text-align: right;\">\n",
       "      <th></th>\n",
       "      <th>id</th>\n",
       "      <th>decision</th>\n",
       "      <th>claims</th>\n",
       "      <th>noun</th>\n",
       "    </tr>\n",
       "  </thead>\n",
       "  <tbody>\n",
       "    <tr>\n",
       "      <th>0</th>\n",
       "      <td>20130000011</td>\n",
       "      <td>Affirmed-in-Part</td>\n",
       "      <td>knit duallay fabric layer layer inner layer ad...</td>\n",
       "      <td>knit duallay layer layer inner layer contact w...</td>\n",
       "    </tr>\n",
       "    <tr>\n",
       "      <th>1</th>\n",
       "      <td>20130000031</td>\n",
       "      <td>Reversed</td>\n",
       "      <td>air inject system hydromassag bath bath bottom...</td>\n",
       "      <td>air system bath bath bottom wall peripher side...</td>\n",
       "    </tr>\n",
       "    <tr>\n",
       "      <th>2</th>\n",
       "      <td>20130000041</td>\n",
       "      <td>Affirmed</td>\n",
       "      <td>occup support support structur compon variabl ...</td>\n",
       "      <td>support support compon variabl profil actuat s...</td>\n",
       "    </tr>\n",
       "    <tr>\n",
       "      <th>3</th>\n",
       "      <td>20130000051</td>\n",
       "      <td>Reversed with new ground of rejection</td>\n",
       "      <td>compress tool jaw member jaw member pivot conn...</td>\n",
       "      <td>compress tool jaw member jaw member pivot jaw ...</td>\n",
       "    </tr>\n",
       "    <tr>\n",
       "      <th>4</th>\n",
       "      <td>20130000061</td>\n",
       "      <td>Reversed</td>\n",
       "      <td>rotat toothbrush handl provid lever head part ...</td>\n",
       "      <td>rotat toothbrush handl provid lever part brist...</td>\n",
       "    </tr>\n",
       "  </tbody>\n",
       "</table>\n",
       "</div>"
      ],
      "text/plain": [
       "            id                                 decision  \\\n",
       "0  20130000011                         Affirmed-in-Part   \n",
       "1  20130000031                                 Reversed   \n",
       "2  20130000041                                 Affirmed   \n",
       "3  20130000051  Reversed with new ground of rejection     \n",
       "4  20130000061                                 Reversed   \n",
       "\n",
       "                                              claims  \\\n",
       "0  knit duallay fabric layer layer inner layer ad...   \n",
       "1  air inject system hydromassag bath bath bottom...   \n",
       "2  occup support support structur compon variabl ...   \n",
       "3  compress tool jaw member jaw member pivot conn...   \n",
       "4  rotat toothbrush handl provid lever head part ...   \n",
       "\n",
       "                                                noun  \n",
       "0  knit duallay layer layer inner layer contact w...  \n",
       "1  air system bath bath bottom wall peripher side...  \n",
       "2  support support compon variabl profil actuat s...  \n",
       "3  compress tool jaw member jaw member pivot jaw ...  \n",
       "4  rotat toothbrush handl provid lever part brist...  "
      ]
     },
     "execution_count": 31,
     "metadata": {},
     "output_type": "execute_result"
    }
   ],
   "source": [
    "appeal.head()"
   ]
  },
  {
   "cell_type": "code",
   "execution_count": 32,
   "metadata": {},
   "outputs": [
    {
     "data": {
      "text/plain": [
       "(15052, 4)"
      ]
     },
     "execution_count": 32,
     "metadata": {},
     "output_type": "execute_result"
    }
   ],
   "source": [
    "Affirmed = appeal[appeal.decision=='Affirmed']\n",
    "Reversed = appeal[appeal.decision=='Reversed']\n",
    "appeal = pd.concat([Affirmed, Reversed])\n",
    "appeal.shape"
   ]
  },
  {
   "cell_type": "code",
   "execution_count": 33,
   "metadata": {},
   "outputs": [
    {
     "data": {
      "text/plain": [
       "'occup support support structur compon variabl profil actuat system vari variabl profil support structur control respons prescrib profil cycl paramet command actuat system effect cyclic variat variabl profil'"
      ]
     },
     "execution_count": 33,
     "metadata": {},
     "output_type": "execute_result"
    }
   ],
   "source": [
    "appeal['claims'][2]"
   ]
  },
  {
   "cell_type": "code",
   "execution_count": 34,
   "metadata": {},
   "outputs": [
    {
     "name": "stderr",
     "output_type": "stream",
     "text": [
      "100%|██████████| 15052/15052 [00:10<00:00, 1373.81it/s]\n"
     ]
    }
   ],
   "source": [
    "appeal['claims_length'] = 0\n",
    "appeal['noun_length'] = 0\n",
    "appeal['claims_unique'] = \"\"\n",
    "appeal['noun_unique'] = \"\"\n",
    "appeal['claims_unique_length'] = 0\n",
    "appeal['noun_unique_length'] = 0\n",
    "for i in tqdm(appeal.index):\n",
    "    claims = appeal['claims'][i].split(' ')\n",
    "    noun = appeal['noun'][i].split(' ')\n",
    "    appeal['claims_length'][i] = len(claims)\n",
    "    appeal['noun_length'][i] = len(noun)\n",
    "    appeal['claims_unique'][i] = np.unique(claims)\n",
    "    appeal['noun_unique'][i] = np.unique(noun)\n",
    "    appeal['claims_unique_length'][i] = len(np.unique(claims))\n",
    "    appeal['noun_unique_length'][i] = len(np.unique(noun))"
   ]
  },
  {
   "cell_type": "code",
   "execution_count": 35,
   "metadata": {},
   "outputs": [
    {
     "data": {
      "text/html": [
       "<div>\n",
       "<style scoped>\n",
       "    .dataframe tbody tr th:only-of-type {\n",
       "        vertical-align: middle;\n",
       "    }\n",
       "\n",
       "    .dataframe tbody tr th {\n",
       "        vertical-align: top;\n",
       "    }\n",
       "\n",
       "    .dataframe thead th {\n",
       "        text-align: right;\n",
       "    }\n",
       "</style>\n",
       "<table border=\"1\" class=\"dataframe\">\n",
       "  <thead>\n",
       "    <tr style=\"text-align: right;\">\n",
       "      <th></th>\n",
       "      <th>id</th>\n",
       "      <th>decision</th>\n",
       "      <th>claims</th>\n",
       "      <th>noun</th>\n",
       "      <th>claims_length</th>\n",
       "      <th>noun_length</th>\n",
       "      <th>claims_unique</th>\n",
       "      <th>noun_unique</th>\n",
       "      <th>claims_unique_length</th>\n",
       "      <th>noun_unique_length</th>\n",
       "    </tr>\n",
       "  </thead>\n",
       "  <tbody>\n",
       "    <tr>\n",
       "      <th>2</th>\n",
       "      <td>20130000041</td>\n",
       "      <td>Affirmed</td>\n",
       "      <td>occup support support structur compon variabl ...</td>\n",
       "      <td>support support compon variabl profil actuat s...</td>\n",
       "      <td>28</td>\n",
       "      <td>21</td>\n",
       "      <td>[actuat, command, compon, control, cycl, cycli...</td>\n",
       "      <td>[actuat, command, compon, control, cycl, effec...</td>\n",
       "      <td>18</td>\n",
       "      <td>13</td>\n",
       "    </tr>\n",
       "    <tr>\n",
       "      <th>5</th>\n",
       "      <td>20130000071</td>\n",
       "      <td>Affirmed</td>\n",
       "      <td>air suctioninject devic connect front end suct...</td>\n",
       "      <td>air devic connect end suction vacuum air devic...</td>\n",
       "      <td>119</td>\n",
       "      <td>74</td>\n",
       "      <td>[air, airstream, bodi, cleaner, conjunct, conn...</td>\n",
       "      <td>[air, airstream, bodi, connect, creat, devic, ...</td>\n",
       "      <td>40</td>\n",
       "      <td>28</td>\n",
       "    </tr>\n",
       "    <tr>\n",
       "      <th>8</th>\n",
       "      <td>20130000101</td>\n",
       "      <td>Affirmed</td>\n",
       "      <td>cancel</td>\n",
       "      <td>cancel</td>\n",
       "      <td>1</td>\n",
       "      <td>1</td>\n",
       "      <td>[cancel]</td>\n",
       "      <td>[cancel]</td>\n",
       "      <td>1</td>\n",
       "      <td>1</td>\n",
       "    </tr>\n",
       "    <tr>\n",
       "      <th>9</th>\n",
       "      <td>20130000111</td>\n",
       "      <td>Affirmed</td>\n",
       "      <td>termin crimp apparatu plural applic includ die...</td>\n",
       "      <td>termin crimp includ die die crimp termin elect...</td>\n",
       "      <td>75</td>\n",
       "      <td>52</td>\n",
       "      <td>[achiev, apparatu, applic, associ, away, base,...</td>\n",
       "      <td>[achiev, associ, base, connectiondisconnect, c...</td>\n",
       "      <td>34</td>\n",
       "      <td>24</td>\n",
       "    </tr>\n",
       "    <tr>\n",
       "      <th>10</th>\n",
       "      <td>20130000121</td>\n",
       "      <td>Affirmed</td>\n",
       "      <td>spheric cutter spheric shape bodi open end clo...</td>\n",
       "      <td>cutter shape bodi end end defin caviti multipo...</td>\n",
       "      <td>29</td>\n",
       "      <td>19</td>\n",
       "      <td>[along, bodi, caviti, central, circular, close...</td>\n",
       "      <td>[bodi, caviti, cut, cutter, defin, dispos, end...</td>\n",
       "      <td>20</td>\n",
       "      <td>13</td>\n",
       "    </tr>\n",
       "  </tbody>\n",
       "</table>\n",
       "</div>"
      ],
      "text/plain": [
       "             id  decision                                             claims  \\\n",
       "2   20130000041  Affirmed  occup support support structur compon variabl ...   \n",
       "5   20130000071  Affirmed  air suctioninject devic connect front end suct...   \n",
       "8   20130000101  Affirmed                                             cancel   \n",
       "9   20130000111  Affirmed  termin crimp apparatu plural applic includ die...   \n",
       "10  20130000121  Affirmed  spheric cutter spheric shape bodi open end clo...   \n",
       "\n",
       "                                                 noun  claims_length  \\\n",
       "2   support support compon variabl profil actuat s...             28   \n",
       "5   air devic connect end suction vacuum air devic...            119   \n",
       "8                                              cancel              1   \n",
       "9   termin crimp includ die die crimp termin elect...             75   \n",
       "10  cutter shape bodi end end defin caviti multipo...             29   \n",
       "\n",
       "    noun_length                                      claims_unique  \\\n",
       "2            21  [actuat, command, compon, control, cycl, cycli...   \n",
       "5            74  [air, airstream, bodi, cleaner, conjunct, conn...   \n",
       "8             1                                           [cancel]   \n",
       "9            52  [achiev, apparatu, applic, associ, away, base,...   \n",
       "10           19  [along, bodi, caviti, central, circular, close...   \n",
       "\n",
       "                                          noun_unique  claims_unique_length  \\\n",
       "2   [actuat, command, compon, control, cycl, effec...                    18   \n",
       "5   [air, airstream, bodi, connect, creat, devic, ...                    40   \n",
       "8                                            [cancel]                     1   \n",
       "9   [achiev, associ, base, connectiondisconnect, c...                    34   \n",
       "10  [bodi, caviti, cut, cutter, defin, dispos, end...                    20   \n",
       "\n",
       "    noun_unique_length  \n",
       "2                   13  \n",
       "5                   28  \n",
       "8                    1  \n",
       "9                   24  \n",
       "10                  13  "
      ]
     },
     "execution_count": 35,
     "metadata": {},
     "output_type": "execute_result"
    }
   ],
   "source": [
    "appeal.head()"
   ]
  },
  {
   "cell_type": "code",
   "execution_count": 37,
   "metadata": {},
   "outputs": [
    {
     "data": {
      "text/plain": [
       "(14907, 10)"
      ]
     },
     "execution_count": 37,
     "metadata": {},
     "output_type": "execute_result"
    }
   ],
   "source": [
    "appeal = appeal[appeal.claims_length>1]\n",
    "appeal = appeal[appeal.claims_length / appeal.claims_unique_length<=10]\n",
    "appeal.shape"
   ]
  },
  {
   "cell_type": "code",
   "execution_count": 38,
   "metadata": {
    "scrolled": true
   },
   "outputs": [
    {
     "data": {
      "text/html": [
       "<div>\n",
       "<style scoped>\n",
       "    .dataframe tbody tr th:only-of-type {\n",
       "        vertical-align: middle;\n",
       "    }\n",
       "\n",
       "    .dataframe tbody tr th {\n",
       "        vertical-align: top;\n",
       "    }\n",
       "\n",
       "    .dataframe thead th {\n",
       "        text-align: right;\n",
       "    }\n",
       "</style>\n",
       "<table border=\"1\" class=\"dataframe\">\n",
       "  <thead>\n",
       "    <tr style=\"text-align: right;\">\n",
       "      <th></th>\n",
       "      <th>id</th>\n",
       "      <th>claims_length</th>\n",
       "      <th>noun_length</th>\n",
       "      <th>claims_unique_length</th>\n",
       "      <th>noun_unique_length</th>\n",
       "    </tr>\n",
       "  </thead>\n",
       "  <tbody>\n",
       "    <tr>\n",
       "      <th>count</th>\n",
       "      <td>1.490700e+04</td>\n",
       "      <td>14907.000000</td>\n",
       "      <td>14907.000000</td>\n",
       "      <td>14907.000000</td>\n",
       "      <td>14907.000000</td>\n",
       "    </tr>\n",
       "    <tr>\n",
       "      <th>mean</th>\n",
       "      <td>2.013715e+10</td>\n",
       "      <td>69.767626</td>\n",
       "      <td>49.292279</td>\n",
       "      <td>29.007849</td>\n",
       "      <td>21.631113</td>\n",
       "    </tr>\n",
       "    <tr>\n",
       "      <th>std</th>\n",
       "      <td>7.482135e+06</td>\n",
       "      <td>54.106487</td>\n",
       "      <td>38.756731</td>\n",
       "      <td>13.546710</td>\n",
       "      <td>10.100735</td>\n",
       "    </tr>\n",
       "    <tr>\n",
       "      <th>min</th>\n",
       "      <td>2.013000e+10</td>\n",
       "      <td>2.000000</td>\n",
       "      <td>2.000000</td>\n",
       "      <td>2.000000</td>\n",
       "      <td>2.000000</td>\n",
       "    </tr>\n",
       "    <tr>\n",
       "      <th>25%</th>\n",
       "      <td>2.013006e+10</td>\n",
       "      <td>39.000000</td>\n",
       "      <td>28.000000</td>\n",
       "      <td>20.000000</td>\n",
       "      <td>15.000000</td>\n",
       "    </tr>\n",
       "    <tr>\n",
       "      <th>50%</th>\n",
       "      <td>2.014001e+10</td>\n",
       "      <td>58.000000</td>\n",
       "      <td>42.000000</td>\n",
       "      <td>27.000000</td>\n",
       "      <td>20.000000</td>\n",
       "    </tr>\n",
       "    <tr>\n",
       "      <th>75%</th>\n",
       "      <td>2.014008e+10</td>\n",
       "      <td>85.000000</td>\n",
       "      <td>60.000000</td>\n",
       "      <td>35.000000</td>\n",
       "      <td>26.000000</td>\n",
       "    </tr>\n",
       "    <tr>\n",
       "      <th>max</th>\n",
       "      <td>2.015008e+10</td>\n",
       "      <td>1288.000000</td>\n",
       "      <td>1117.000000</td>\n",
       "      <td>240.000000</td>\n",
       "      <td>178.000000</td>\n",
       "    </tr>\n",
       "  </tbody>\n",
       "</table>\n",
       "</div>"
      ],
      "text/plain": [
       "                 id  claims_length   noun_length  claims_unique_length  \\\n",
       "count  1.490700e+04   14907.000000  14907.000000          14907.000000   \n",
       "mean   2.013715e+10      69.767626     49.292279             29.007849   \n",
       "std    7.482135e+06      54.106487     38.756731             13.546710   \n",
       "min    2.013000e+10       2.000000      2.000000              2.000000   \n",
       "25%    2.013006e+10      39.000000     28.000000             20.000000   \n",
       "50%    2.014001e+10      58.000000     42.000000             27.000000   \n",
       "75%    2.014008e+10      85.000000     60.000000             35.000000   \n",
       "max    2.015008e+10    1288.000000   1117.000000            240.000000   \n",
       "\n",
       "       noun_unique_length  \n",
       "count        14907.000000  \n",
       "mean            21.631113  \n",
       "std             10.100735  \n",
       "min              2.000000  \n",
       "25%             15.000000  \n",
       "50%             20.000000  \n",
       "75%             26.000000  \n",
       "max            178.000000  "
      ]
     },
     "execution_count": 38,
     "metadata": {},
     "output_type": "execute_result"
    }
   ],
   "source": [
    "appeal.describe()"
   ]
  },
  {
   "cell_type": "code",
   "execution_count": 44,
   "metadata": {
    "scrolled": false
   },
   "outputs": [
    {
     "data": {
      "text/plain": [
       "<seaborn.axisgrid.FacetGrid at 0x7f576e233fd0>"
      ]
     },
     "execution_count": 44,
     "metadata": {},
     "output_type": "execute_result"
    },
    {
     "data": {
      "image/png": "[encoded data removed]",
      "text/plain": [
       "<Figure size 360x360 with 1 Axes>"
      ]
     },
     "metadata": {
      "needs_background": "light"
     },
     "output_type": "display_data"
    }
   ],
   "source": [
    "sns.displot(data = appeal, x='noun_unique_length')"
   ]
  },
  {
   "cell_type": "markdown",
   "metadata": {},
   "source": [
    "# save corpus for word2vec"
   ]
  },
  {
   "cell_type": "code",
   "execution_count": null,
   "metadata": {},
   "outputs": [],
   "source": [
    "#="
   ]
  }
 ],
 "metadata": {
  "kernelspec": {
   "display_name": "Python 3",
   "language": "python",
   "name": "python3"
  },
  "language_info": {
   "codemirror_mode": {
    "name": "ipython",
    "version": 3
   },
   "file_extension": ".py",
   "mimetype": "text/x-python",
   "name": "python",
   "nbconvert_exporter": "python",
   "pygments_lexer": "ipython3",
   "version": "3.7.8"
  }
 },
 "nbformat": 4,
 "nbformat_minor": 4
}
